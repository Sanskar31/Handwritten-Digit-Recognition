{
 "cells": [
  {
   "cell_type": "code",
   "execution_count": 16,
   "metadata": {
    "scrolled": true
   },
   "outputs": [
    {
     "name": "stderr",
     "output_type": "stream",
     "text": [
      "C:\\Users\\sansk\\Anaconda3\\envs\\gpu\\lib\\site-packages\\ipykernel_launcher.py:27: UserWarning: Update your `Conv2D` call to the Keras 2 API: `Conv2D(16, (5, 5), activation=\"relu\", input_shape=(28, 28, 3...)`\n",
      "C:\\Users\\sansk\\Anaconda3\\envs\\gpu\\lib\\site-packages\\ipykernel_launcher.py:30: UserWarning: Update your `Conv2D` call to the Keras 2 API: `Conv2D(32, (5, 5), activation=\"relu\")`\n"
     ]
    },
    {
     "name": "stdout",
     "output_type": "stream",
     "text": [
      "Found 60000 images belonging to 10 classes.\n",
      "Found 10000 images belonging to 10 classes.\n",
      "WARNING:tensorflow:From C:\\Users\\sansk\\Anaconda3\\envs\\gpu\\lib\\site-packages\\tensorflow\\python\\ops\\math_ops.py:3066: to_int32 (from tensorflow.python.ops.math_ops) is deprecated and will be removed in a future version.\n",
      "Instructions for updating:\n",
      "Use tf.cast instead.\n"
     ]
    },
    {
     "name": "stderr",
     "output_type": "stream",
     "text": [
      "C:\\Users\\sansk\\Anaconda3\\envs\\gpu\\lib\\site-packages\\ipykernel_launcher.py:68: UserWarning: The semantics of the Keras 2 argument `steps_per_epoch` is not the same as the Keras 1 argument `samples_per_epoch`. `steps_per_epoch` is the number of batches to draw from the generator at each epoch. Basically steps_per_epoch = samples_per_epoch/batch_size. Similarly `nb_val_samples`->`validation_steps` and `val_samples`->`steps` arguments have changed. Update your method calls accordingly.\n",
      "C:\\Users\\sansk\\Anaconda3\\envs\\gpu\\lib\\site-packages\\ipykernel_launcher.py:68: UserWarning: Update your `fit_generator` call to the Keras 2 API: `fit_generator(<keras_pre..., validation_steps=1875, validation_data=<keras_pre..., steps_per_epoch=1875, epochs=5)`\n"
     ]
    },
    {
     "name": "stdout",
     "output_type": "stream",
     "text": [
      "Epoch 1/5\n",
      "1875/1875 [==============================] - 82s 44ms/step - loss: 0.0362 - acc: 0.9874 - val_loss: 0.0126 - val_acc: 0.9958\n",
      "Epoch 2/5\n",
      "1875/1875 [==============================] - 73s 39ms/step - loss: 0.0164 - acc: 0.9947 - val_loss: 0.0107 - val_acc: 0.9963\n",
      "Epoch 3/5\n",
      "1875/1875 [==============================] - 73s 39ms/step - loss: 0.0141 - acc: 0.9956 - val_loss: 0.0105 - val_acc: 0.9969\n",
      "Epoch 4/5\n",
      "1875/1875 [==============================] - 75s 40ms/step - loss: 0.0135 - acc: 0.9959 - val_loss: 0.0123 - val_acc: 0.9965\n",
      "Epoch 5/5\n",
      "1875/1875 [==============================] - 82s 44ms/step - loss: 0.0132 - acc: 0.9960 - val_loss: 0.0165 - val_acc: 0.9966\n"
     ]
    }
   ],
   "source": [
    "# -*- coding: utf-8 -*-\n",
    "\"\"\"\n",
    "Created on Sat Jul 13 16:41:23 2019\n",
    "\n",
    "@author: Sanskar\n",
    "\"\"\"\n",
    "\n",
    "from keras.preprocessing.image import ImageDataGenerator\n",
    "from keras.models import Sequential\n",
    "from keras.layers import Convolution2D, MaxPooling2D\n",
    "from keras.layers import Flatten, Dense\n",
    "\n",
    "img_width, img_height = 28, 28\n",
    "\n",
    "train_data_dir = 'Dataset_png/training'\n",
    "\n",
    "validation_data_dir = 'Dataset_png/testing'\n",
    "\n",
    "train_samples = 60000\n",
    "\n",
    "validation_samples = 10000\n",
    "\n",
    "epoch = 5\n",
    "\n",
    "# ** Model Begins **\n",
    "model = Sequential()\n",
    "model.add(Convolution2D(16, 5, 5, activation='relu', input_shape=(img_width, img_height, 3)))\n",
    "model.add(MaxPooling2D(2, 2))\n",
    "\n",
    "model.add(Convolution2D(32, 5, 5, activation='relu'))\n",
    "model.add(MaxPooling2D(2, 2))\n",
    "\n",
    "model.add(Flatten())\n",
    "model.add(Dense(1000, activation='relu'))\n",
    "\n",
    "model.add(Dense(10, activation='softmax'))\n",
    "# ** Model Ends **\n",
    "\n",
    "model.compile(loss='binary_crossentropy',\n",
    "              optimizer='rmsprop',\n",
    "              metrics=['accuracy'])\n",
    "\n",
    "train_datagen = ImageDataGenerator(\n",
    "        rescale=1./255,\n",
    "        shear_range=0.2,\n",
    "        zoom_range=0.2,\n",
    "        horizontal_flip=True)\n",
    "\n",
    "test_datagen = ImageDataGenerator(rescale=1./255)\n",
    "\n",
    "train_generator = train_datagen.flow_from_directory(\n",
    "        train_data_dir,\n",
    "        target_size=(img_width, img_height),\n",
    "        batch_size=32,\n",
    "        class_mode='categorical')\n",
    "\n",
    "validation_generator = test_datagen.flow_from_directory(\n",
    "        validation_data_dir,\n",
    "        target_size=(img_width, img_height),\n",
    "        batch_size=32,\n",
    "        class_mode='categorical')\n",
    "\n",
    "model.fit_generator(\n",
    "        train_generator,\n",
    "        samples_per_epoch=train_samples,\n",
    "        nb_epoch=epoch,\n",
    "        validation_data=validation_generator,\n",
    "        nb_val_samples=validation_samples)\n",
    "\n",
    "model.save_weights('model_k_validation.h5')\n",
    "\n"
   ]
  },
  {
   "cell_type": "code",
   "execution_count": 26,
   "metadata": {},
   "outputs": [
    {
     "name": "stderr",
     "output_type": "stream",
     "text": [
      "C:\\Users\\sansk\\Anaconda3\\envs\\gpu\\lib\\site-packages\\ipykernel_launcher.py:21: UserWarning: Update your `Conv2D` call to the Keras 2 API: `Conv2D(16, (5, 5), activation=\"relu\", input_shape=(28, 28, 3...)`\n",
      "C:\\Users\\sansk\\Anaconda3\\envs\\gpu\\lib\\site-packages\\ipykernel_launcher.py:24: UserWarning: Update your `Conv2D` call to the Keras 2 API: `Conv2D(32, (5, 5), activation=\"relu\")`\n"
     ]
    },
    {
     "name": "stdout",
     "output_type": "stream",
     "text": [
      "_________________________________________________________________\n",
      "Layer (type)                 Output Shape              Param #   \n",
      "=================================================================\n",
      "conv2d_47 (Conv2D)           (None, 24, 24, 16)        1216      \n",
      "_________________________________________________________________\n",
      "max_pooling2d_47 (MaxPooling (None, 12, 12, 16)        0         \n",
      "_________________________________________________________________\n",
      "conv2d_48 (Conv2D)           (None, 8, 8, 32)          12832     \n",
      "_________________________________________________________________\n",
      "max_pooling2d_48 (MaxPooling (None, 4, 4, 32)          0         \n",
      "_________________________________________________________________\n",
      "flatten_24 (Flatten)         (None, 512)               0         \n",
      "_________________________________________________________________\n",
      "dense_47 (Dense)             (None, 1000)              513000    \n",
      "_________________________________________________________________\n",
      "dense_48 (Dense)             (None, 10)                10010     \n",
      "=================================================================\n",
      "Total params: 537,058\n",
      "Trainable params: 537,058\n",
      "Non-trainable params: 0\n",
      "_________________________________________________________________\n",
      "I think this digit is a 0 with 100.0% confidence.\n"
     ]
    }
   ],
   "source": [
    "# -*- coding: utf-8 -*-\n",
    "\"\"\"\n",
    "Created on Sun Jul 14 19:47:19 2019\n",
    "\n",
    "@author: Sanskar\n",
    "\"\"\"\n",
    "import matplotlib.pyplot as plt\n",
    "import numpy\n",
    "import cv2\n",
    "from keras.preprocessing.image import ImageDataGenerator\n",
    "from keras.models import Sequential\n",
    "from keras.layers import Convolution2D, MaxPooling2D\n",
    "from keras.layers import Flatten, Dense\n",
    "import sys\n",
    "\n",
    "img_width, img_height = 28, 28\n",
    "\n",
    "def create_model():\n",
    "  model = Sequential()\n",
    "\n",
    "  model.add(Convolution2D(16, 5, 5, activation='relu', input_shape=(img_width, img_height, 3)))\n",
    "  model.add(MaxPooling2D(2, 2))\n",
    "\n",
    "  model.add(Convolution2D(32, 5, 5, activation='relu'))\n",
    "  model.add(MaxPooling2D(2, 2))\n",
    "\n",
    "  model.add(Flatten())\n",
    "  model.add(Dense(1000, activation='relu'))\n",
    "\n",
    "  model.add(Dense(10, activation='softmax'))\n",
    "\n",
    "  model.summary()\n",
    "\n",
    "  return model\n",
    "\n",
    "\n",
    "img = cv2.imread('Live.png')\n",
    "img = cv2.resize(img, (img_width, img_height))\n",
    "model = create_model()\n",
    "model.load_weights('model_k_validation1.h5')\n",
    "arr = numpy.array(img).reshape((img_width,img_height,3))\n",
    "arr = numpy.expand_dims(arr, axis=0)\n",
    "prediction = model.predict(arr)[0]\n",
    "bestclass = ''\n",
    "bestconf = -1\n",
    "for n in [0,1,2,3,4,5,6,7,8,9]:\n",
    "\tif (prediction[n] > bestconf):\n",
    "\t\tbestclass = str(n)\n",
    "\t\tbestconf = prediction[n]\n",
    "print('I think this digit is a ' + bestclass + ' with ' + str(bestconf * 100) + '% confidence.')"
   ]
  },
  {
   "cell_type": "code",
   "execution_count": null,
   "metadata": {},
   "outputs": [],
   "source": []
  }
 ],
 "metadata": {
  "kernelspec": {
   "display_name": "gpu",
   "language": "python",
   "name": "gpu"
  },
  "language_info": {
   "codemirror_mode": {
    "name": "ipython",
    "version": 3
   },
   "file_extension": ".py",
   "mimetype": "text/x-python",
   "name": "python",
   "nbconvert_exporter": "python",
   "pygments_lexer": "ipython3",
   "version": "3.7.3"
  }
 },
 "nbformat": 4,
 "nbformat_minor": 2
}
